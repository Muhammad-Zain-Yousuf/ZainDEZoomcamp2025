{
 "cells": [
  {
   "cell_type": "code",
   "execution_count": 2,
   "id": "2a865e30-1c93-496c-bcd7-fcc44aba056e",
   "metadata": {},
   "outputs": [
    {
     "name": "stdout",
     "output_type": "stream",
     "text": [
      "Hello World!\n"
     ]
    }
   ],
   "source": [
    "print(\"Hello World!\")"
   ]
  },
  {
   "cell_type": "code",
   "execution_count": null,
   "id": "4620b048-7342-4330-ac60-255fd395f4d4",
   "metadata": {},
   "outputs": [],
   "source": [
    "docker run -d -e POSTGRES_USER=\"root\" -e POSTGRES_PASSWORD=\"root\" -e POSTGRES_DB=\"ny_taxi\" -v /workspaces/ZainDEZoomcamp2025/week_1_docker_sql:/var/lib/postgresql/data -p 5432:5432 --network=pg-network --name pg-database postgres:13"
   ]
  },
  {
   "cell_type": "code",
   "execution_count": null,
   "id": "0a8747e5",
   "metadata": {},
   "outputs": [],
   "source": [
    "pgcli -h localhost -p 5432 -u root -d ny_taxi"
   ]
  },
  {
   "cell_type": "code",
   "execution_count": null,
   "id": "7040214d",
   "metadata": {},
   "outputs": [],
   "source": [
    "sudo chmod -R g+rwx week_1_docker_sql"
   ]
  },
  {
   "cell_type": "code",
   "execution_count": null,
   "id": "937b7438",
   "metadata": {},
   "outputs": [],
   "source": [
    "docker run -d -e PGADMIN_DEFAULT_EMAIL=\"admin@admin.com\" -e PGADMIN_DEFAULT_PASSWORD=\"root\" -p 8080:80 --network=pg-network --name pgadmin dpage/pgadmin4"
   ]
  },
  {
   "cell_type": "code",
   "execution_count": null,
   "id": "f31a7a72",
   "metadata": {},
   "outputs": [],
   "source": [
    "docker run -it --network=pg-network taxi_ingest:v001"
   ]
  }
 ],
 "metadata": {
  "kernelspec": {
   "display_name": "Python 3 (ipykernel)",
   "language": "python",
   "name": "python3"
  },
  "language_info": {
   "codemirror_mode": {
    "name": "ipython",
    "version": 3
   },
   "file_extension": ".py",
   "mimetype": "text/x-python",
   "name": "python",
   "nbconvert_exporter": "python",
   "pygments_lexer": "ipython3",
   "version": "3.12.1"
  }
 },
 "nbformat": 4,
 "nbformat_minor": 5
}
