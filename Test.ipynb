{
 "cells": [
  {
   "cell_type": "code",
   "execution_count": 2,
   "id": "2a865e30-1c93-496c-bcd7-fcc44aba056e",
   "metadata": {},
   "outputs": [
    {
     "name": "stdout",
     "output_type": "stream",
     "text": [
      "Hello World!\n"
     ]
    }
   ],
   "source": [
    "print(\"Hello World!\")"
   ]
  },
  {
   "cell_type": "code",
   "execution_count": null,
   "id": "4620b048-7342-4330-ac60-255fd395f4d4",
   "metadata": {},
   "outputs": [],
   "source": [
    "docker run -it -e POSTGRES_USER=\"root\" -e POSTGRES_PASSWORD=\"root\" -e POSTGRES_DB=\"ny_taxi\" -v /workspaces/ZainDEZoomcamp2025/week_1_docker_sql:/var/lib/postgresql/data -p 5432:5432 postgres:13\n",
    "sudo chmod -R g+rwx week_1_docker_sql"
   ]
  }
 ],
 "metadata": {
  "kernelspec": {
   "display_name": "Python 3 (ipykernel)",
   "language": "python",
   "name": "python3"
  },
  "language_info": {
   "codemirror_mode": {
    "name": "ipython",
    "version": 3
   },
   "file_extension": ".py",
   "mimetype": "text/x-python",
   "name": "python",
   "nbconvert_exporter": "python",
   "pygments_lexer": "ipython3",
   "version": "3.12.1"
  }
 },
 "nbformat": 4,
 "nbformat_minor": 5
}
